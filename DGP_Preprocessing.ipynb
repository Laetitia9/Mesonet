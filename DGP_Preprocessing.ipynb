{
  "nbformat": 4,
  "nbformat_minor": 0,
  "metadata": {
    "colab": {
      "provenance": [],
      "mount_file_id": "1sjbj2Tit0ZBK4X55VHJDSkItZFYL9tE9",
      "authorship_tag": "ABX9TyPyafEOhJOklaTMdZzOUui0",
      "include_colab_link": true
    },
    "kernelspec": {
      "name": "python3",
      "display_name": "Python 3"
    },
    "language_info": {
      "name": "python"
    }
  },
  "cells": [
    {
      "cell_type": "markdown",
      "metadata": {
        "id": "view-in-github",
        "colab_type": "text"
      },
      "source": [
        "<a href=\"https://colab.research.google.com/github/Laetitia9/Mesonet/blob/main/DGP_Preprocessing.ipynb\" target=\"_parent\"><img src=\"https://colab.research.google.com/assets/colab-badge.svg\" alt=\"Open In Colab\"/></a>"
      ]
    },
    {
      "cell_type": "markdown",
      "source": [
        "# DeepFake Detection Preprocessing"
      ],
      "metadata": {
        "id": "tYhh10sk1Gm8"
      }
    },
    {
      "cell_type": "markdown",
      "source": [
        "**Step 1**: Install Required Libraries"
      ],
      "metadata": {
        "id": "OlD-q3Jp1Uhm"
      }
    },
    {
      "cell_type": "markdown",
      "source": [
        "\n",
        "*   !apt-get install -y ffmpeg\n",
        "*   !pip install opencv-python-headless"
      ],
      "metadata": {
        "id": "MjIipH8s1Y_1"
      }
    },
    {
      "cell_type": "markdown",
      "source": [
        "**Step 2**: Convert Videos to H.264 and Trim to 10 Seconds\n",
        "\n"
      ],
      "metadata": {
        "id": "2SjPKqZs2coa"
      }
    },
    {
      "cell_type": "code",
      "source": [
        "import os\n",
        "import subprocess\n",
        "from tqdm import tqdm\n",
        "\n",
        "def convert_and_trim_videos(input_folder, output_folder):\n",
        "    if not os.path.exists(output_folder):\n",
        "        os.makedirs(output_folder)\n",
        "\n",
        "    video_files = [os.path.join(root, file) for root, dirs, files in os.walk(input_folder) for file in files if file.endswith(('.mp4', '.avi', '.mov', '.mkv'))]\n",
        "\n",
        "    for video_path in tqdm(video_files, desc=\"Converting and trimming videos\"):\n",
        "        output_path = os.path.join(output_folder, f\"{'manipulated' if 'manipulated' in video_path else 'genuine'}_trim_{os.path.basename(video_path)}\")\n",
        "\n",
        "        # Convert to H.264 and trim to 10 seconds\n",
        "        command = [\n",
        "            'ffmpeg',\n",
        "            '-i', video_path,\n",
        "            '-t', '10',\n",
        "            '-c:v', 'libx264',\n",
        "            '-crf', '23',\n",
        "            '-preset', 'medium',\n",
        "            output_path\n",
        "        ]\n",
        "        subprocess.run(command, stdout=subprocess.DEVNULL, stderr=subprocess.DEVNULL)\n",
        "\n",
        "# Example usage\n",
        "input_folder = '/content/drive/MyDrive/DeepFake Detection Dataset/DFD_manipulated_sequences'  # This the input folder path\n",
        "output_folder = '/content/drive/MyDrive/DFDD_trimmed_videos/manipulated_trimmed_videos'\n",
        "convert_and_trim_videos(input_folder, output_folder)"
      ],
      "metadata": {
        "colab": {
          "base_uri": "https://localhost:8080/"
        },
        "id": "_vEQkiv3793l",
        "outputId": "04da3545-aaab-44fb-9899-b87e2ab7963d"
      },
      "execution_count": 2,
      "outputs": [
        {
          "output_type": "stream",
          "name": "stderr",
          "text": [
            "Converting and trimming videos: 100%|██████████| 325/325 [2:11:46<00:00, 24.33s/it]\n"
          ]
        }
      ]
    },
    {
      "cell_type": "code",
      "source": [
        "def convert_and_trim_videos(input_folder, output_folder):\n",
        "    if not os.path.exists(output_folder):\n",
        "        os.makedirs(output_folder)\n",
        "\n",
        "    video_files = [os.path.join(root, file) for root, dirs, files in os.walk(input_folder) for file in files if file.endswith(('.mp4', '.avi', '.mov', '.mkv'))]\n",
        "\n",
        "    for video_path in tqdm(video_files, desc=\"Converting and trimming videos\"):\n",
        "        output_path = os.path.join(output_folder, f\"{'manipulated' if 'manipulated' in video_path else 'genuine'}_trim_{os.path.basename(video_path)}\")\n",
        "\n",
        "        # Convert to H.264 and trim to 10 seconds\n",
        "        command = [\n",
        "            'ffmpeg',\n",
        "            '-i', video_path,\n",
        "            '-t', '10',\n",
        "            '-c:v', 'libx264',\n",
        "            '-crf', '23',\n",
        "            '-preset', 'medium',\n",
        "            output_path\n",
        "        ]\n",
        "        subprocess.run(command, stdout=subprocess.DEVNULL, stderr=subprocess.DEVNULL)\n",
        "\n",
        "# Example usage\n",
        "input_folder = '/content/drive/MyDrive/DeepFake Detection Dataset/DFD_original sequences'  # This the input folder path\n",
        "output_folder = '/content/drive/MyDrive/DFDD_trimmed_videos/genuine_trimmed_videos'\n",
        "convert_and_trim_videos(input_folder, output_folder)"
      ],
      "metadata": {
        "colab": {
          "base_uri": "https://localhost:8080/"
        },
        "id": "-XXtKIcEkMsw",
        "outputId": "ac4efd17-2348-487f-9670-15ed49a141a1"
      },
      "execution_count": 8,
      "outputs": [
        {
          "output_type": "stream",
          "name": "stderr",
          "text": [
            "Converting and trimming videos: 100%|██████████| 325/325 [2:13:55<00:00, 24.72s/it]\n"
          ]
        }
      ]
    }
  ]
}